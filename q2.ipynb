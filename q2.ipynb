{
 "cells": [
  {
   "cell_type": "code",
   "execution_count": 1,
   "metadata": {},
   "outputs": [
    {
     "name": "stdout",
     "output_type": "stream",
     "text": [
      "['A1', 'A2', 'A3', 'A4', 'A5', 'A6', 'A7', 'A8', 'A9', 'B1', 'B2', 'B3', 'B4', 'B5', 'B6', 'B7', 'B8', 'B9', 'C1', 'C2', 'C3', 'C4', 'C5', 'C6', 'C7', 'C8', 'C9', 'D1', 'D2', 'D3', 'D4', 'D5', 'D6', 'D7', 'D8', 'D9', 'E1', 'E2', 'E3', 'E4', 'E5', 'E6', 'E7', 'E8', 'E9', 'F1', 'F2', 'F3', 'F4', 'F5', 'F6', 'F7', 'F8', 'F9', 'G1', 'G2', 'G3', 'G4', 'G5', 'G6', 'G7', 'G8', 'G9', 'H1', 'H2', 'H3', 'H4', 'H5', 'H6', 'H7', 'H8', 'H9', 'I1', 'I2', 'I3', 'I4', 'I5', 'I6', 'I7', 'I8', 'I9']\n"
     ]
    }
   ],
   "source": [
    "## Solve Every Sudoku Puzzle\n",
    "\n",
    "## See http://norvig.com/sudoku.html\n",
    "\n",
    "## Throughout this program we have:\n",
    "##   r is a row,    e.g. 'A'\n",
    "##   c is a column, e.g. '3'\n",
    "##   s is a square, e.g. 'A3'\n",
    "##   d is a digit,  e.g. '9'\n",
    "##   u is a unit,   e.g. ['A1','B1','C1','D1','E1','F1','G1','H1','I1']\n",
    "##   grid is a grid,e.g. 81 non-blank chars, e.g. starting with '.18...7...\n",
    "##   values is a dict of possible values, e.g. {'A1':'12349', 'A2':'8', ...}\n",
    "\n",
    "# Generate all the suquares with the name of the row and the column\n",
    "def cross(A, B):\n",
    "    \"Cross product of elements in A and elements in B.\"\n",
    "    return [a+b for a in A for b in B]\n",
    "\n",
    "digits   = '123456789'\n",
    "rows     = 'ABCDEFGHI'\n",
    "cols     = digits\n",
    "squares  = cross(rows, cols)\n",
    "unitlist = ([cross(rows, c) for c in cols] +\n",
    "            [cross(r, cols) for r in rows] +\n",
    "            [cross(rs, cs) for rs in ('ABC','DEF','GHI') for cs in ('123','456','789')])\n",
    "units = dict((s, [u for u in unitlist if s in u])\n",
    "             for s in squares)\n",
    "peers = dict((s, set(sum(units[s],[]))-set([s]))\n",
    "             for s in squares)\n",
    "\n",
    "print(squares)"
   ]
  },
  {
   "cell_type": "code",
   "execution_count": 2,
   "metadata": {},
   "outputs": [
    {
     "name": "stdout",
     "output_type": "stream",
     "text": [
      "All tests pass.\n"
     ]
    }
   ],
   "source": [
    "def test():\n",
    "    \"A set of tests that must pass.\"\n",
    "    assert len(squares) == 81\n",
    "    assert len(unitlist) == 27\n",
    "    assert all(len(units[s]) == 3 for s in squares)\n",
    "    assert all(len(peers[s]) == 20 for s in squares)\n",
    "    assert units['C2'] == [['A2', 'B2', 'C2', 'D2', 'E2', 'F2', 'G2', 'H2', 'I2'],\n",
    "                           ['C1', 'C2', 'C3', 'C4', 'C5', 'C6', 'C7', 'C8', 'C9'],\n",
    "                           ['A1', 'A2', 'A3', 'B1', 'B2', 'B3', 'C1', 'C2', 'C3']]\n",
    "    assert peers['C2'] == set(['A2', 'B2', 'D2', 'E2', 'F2', 'G2', 'H2', 'I2',\n",
    "                               'C1', 'C3', 'C4', 'C5', 'C6', 'C7', 'C8', 'C9',\n",
    "                               'A1', 'A3', 'B1', 'B3'])\n",
    "    print ('All tests pass.')\n",
    "    \n",
    "test()"
   ]
  },
  {
   "cell_type": "code",
   "execution_count": 3,
   "metadata": {},
   "outputs": [
    {
     "name": "stdout",
     "output_type": "stream",
     "text": [
      "{'A1': '123456789', 'A2': '123456789', 'A3': '123456789', 'A4': '123456789', 'A5': '123456789', 'A6': '123456789', 'A7': '123456789', 'A8': '123456789', 'A9': '123456789', 'B1': '123456789', 'B2': '123456789', 'B3': '123456789', 'B4': '123456789', 'B5': '123456789', 'B6': '123456789', 'B7': '123456789', 'B8': '123456789', 'B9': '123456789', 'C1': '123456789', 'C2': '123456789', 'C3': '123456789', 'C4': '123456789', 'C5': '123456789', 'C6': '123456789', 'C7': '123456789', 'C8': '123456789', 'C9': '123456789', 'D1': '123456789', 'D2': '123456789', 'D3': '123456789', 'D4': '123456789', 'D5': '123456789', 'D6': '123456789', 'D7': '123456789', 'D8': '123456789', 'D9': '123456789', 'E1': '123456789', 'E2': '123456789', 'E3': '123456789', 'E4': '123456789', 'E5': '123456789', 'E6': '123456789', 'E7': '123456789', 'E8': '123456789', 'E9': '123456789', 'F1': '123456789', 'F2': '123456789', 'F3': '123456789', 'F4': '123456789', 'F5': '123456789', 'F6': '123456789', 'F7': '123456789', 'F8': '123456789', 'F9': '123456789', 'G1': '123456789', 'G2': '123456789', 'G3': '123456789', 'G4': '123456789', 'G5': '123456789', 'G6': '123456789', 'G7': '123456789', 'G8': '123456789', 'G9': '123456789', 'H1': '123456789', 'H2': '123456789', 'H3': '123456789', 'H4': '123456789', 'H5': '123456789', 'H6': '123456789', 'H7': '123456789', 'H8': '123456789', 'H9': '123456789', 'I1': '123456789', 'I2': '123456789', 'I3': '123456789', 'I4': '123456789', 'I5': '123456789', 'I6': '123456789', 'I7': '123456789', 'I8': '123456789', 'I9': '123456789'}\n"
     ]
    }
   ],
   "source": [
    "### test code\n",
    "values = dict((s, digits) for s in squares)\n",
    "print(values)"
   ]
  },
  {
   "cell_type": "code",
   "execution_count": 4,
   "metadata": {},
   "outputs": [],
   "source": [
    " # parse a grid into a values dict:\n",
    "\n",
    "def parse_grid(grid):\n",
    "    \"\"\"Convert grid to a dict of possible values, {square: digits}, or\n",
    "    return False if a contradiction is detected.\"\"\"\n",
    "    ## To start, every square can be any digit; then assign values from the grid.\n",
    "    values = dict((s, digits) for s in squares)\n",
    "    for s,d in grid_values(grid).items():\n",
    "        if d in digits and not assign(values, s, d):\n",
    "            return False ## (Fail if we can't assign d to square s.)\n",
    "    return values\n",
    "\n",
    "def grid_values(grid):\n",
    "    \"Convert grid into a dict of {square: char} with '0' or '.' for empties.\"\n",
    "    chars = [c for c in grid if c in digits or c in '0.']\n",
    "    assert len(chars) == 81\n",
    "    return dict(zip(squares, chars))\n",
    "\n",
    "\n",
    "\n",
    "\n"
   ]
  },
  {
   "cell_type": "code",
   "execution_count": 5,
   "metadata": {},
   "outputs": [],
   "source": [
    "# Constraint Propagation\n",
    "def assign(values, s, d):\n",
    "    \"\"\"Eliminate all the other values (except d) from values[s] and propagate.\n",
    "    Return values, except return False if a contradiction is detected.\"\"\"\n",
    "    other_values = values[s].replace(d, '')\n",
    "    if all(eliminate(values, s, d2) for d2 in other_values):\n",
    "        return values\n",
    "    else:\n",
    "        return False\n",
    "\n",
    "def eliminate(values, s, d):\n",
    "    \"\"\"Eliminate d from values[s]; propagate when values or places <= 2.\n",
    "    Return values, except return False if a contradiction is detected.\"\"\"\n",
    "    if d not in values[s]:\n",
    "        return values ## Already eliminated\n",
    "    values[s] = values[s].replace(d,'')\n",
    "    ## (1) If a square s is reduced to one value d2, then eliminate d2 from the peers.\n",
    "    if len(values[s]) == 0:\n",
    "        return False ## Contradiction: removed last value\n",
    "    elif len(values[s]) == 1:\n",
    "        d2 = values[s]\n",
    "        if not all(eliminate(values, s2, d2) for s2 in peers[s]):\n",
    "            return False\n",
    "    ## (2) If a unit u is reduced to only one place for a value d, then put it there.\n",
    "    for u in units[s]:\n",
    "        dplaces = [s for s in u if d in values[s]]\n",
    "        if len(dplaces) == 0:\n",
    "            return False ## Contradiction: no place for this value\n",
    "        elif len(dplaces) == 1:\n",
    "            # d can only be in one place in unit; assign it there\n",
    "            if not assign(values, dplaces[0], d):\n",
    "                return False\n",
    "    return values\n",
    "\n"
   ]
  },
  {
   "cell_type": "code",
   "execution_count": 6,
   "metadata": {},
   "outputs": [
    {
     "name": "stdout",
     "output_type": "stream",
     "text": [
      "4 8 3 |9 2 1 |6 5 7 \n",
      "9 6 7 |3 4 5 |8 2 1 \n",
      "2 5 1 |8 7 6 |4 9 3 \n",
      "------+------+------\n",
      "5 4 8 |1 3 2 |9 7 6 \n",
      "7 2 9 |5 6 4 |1 3 8 \n",
      "1 3 6 |7 9 8 |2 4 5 \n",
      "------+------+------\n",
      "3 7 2 |6 8 9 |5 1 4 \n",
      "8 1 4 |2 5 3 |7 6 9 \n",
      "6 9 5 |4 1 7 |3 8 2 \n"
     ]
    }
   ],
   "source": [
    "grid1  = '003020600900305001001806400008102900700000008006708200002609500800203009005010300'\n",
    "\n",
    "def display(values):\n",
    "    \"Display these values as a 2-D grid.\"\n",
    "    width = 1 + max(len(values[s]) for s in squares)\n",
    "    line = '+'.join(['-' * (width * 3)] * 3)\n",
    "    for r in rows:\n",
    "        # use join to concatenate the strings\n",
    "        print(''.join(values[r + c].center(width) + ('|' if c in '36' else '') for c in cols))\n",
    "        if r in 'CF': \n",
    "            print(line)\n",
    "\n",
    "        \n",
    "display(parse_grid(grid1))"
   ]
  },
  {
   "cell_type": "code",
   "execution_count": 7,
   "metadata": {},
   "outputs": [],
   "source": [
    "import random\n",
    "def solve(grid): return search(parse_grid(grid))\n",
    "\n",
    "def search(values):\n",
    "    \"Using depth-first search and propagation, try all possible values.\"\n",
    "    if values is False:\n",
    "        return False ## Failed earlier\n",
    "    if all(len(values[s]) == 1 for s in squares):\n",
    "        return values ## Solved!\n",
    "    ## Chose the unfilled square s with the fewest possibilities\n",
    "    #n,s = min((len(values[s]), s) for s in squares if len(values[s]) > 1)\n",
    "    s = random.choice([s for s in squares if len(values[s]) > 1])\n",
    "    return some(search(assign(values.copy(), s, d))\n",
    "                for d in values[s])\n",
    "\n",
    "def some(seq):\n",
    "    \"Return some element of seq that is true.\"\n",
    "    for e in seq:\n",
    "        if e: return e\n",
    "    return False"
   ]
  },
  {
   "cell_type": "code",
   "execution_count": 8,
   "metadata": {},
   "outputs": [],
   "source": [
    "import time, random"
   ]
  },
  {
   "cell_type": "code",
   "execution_count": 9,
   "metadata": {},
   "outputs": [],
   "source": [
    "# Utility functions\n",
    "def some(seq):\n",
    "    \"Return some element of seq that is true.\"\n",
    "    for e in seq:\n",
    "        if e: return e\n",
    "    return False\n",
    "\n",
    "def from_file(filename, sep='\\n'):\n",
    "    \"Parse a file into a list of strings, separated by sep.\"\n",
    "    return open(filename).read().strip().split(sep)\n",
    "\n",
    "def shuffled(seq):\n",
    "    \"Return a randomly shuffled copy of the input sequence.\"\n",
    "    seq = list(seq)\n",
    "    random.shuffle(seq)\n",
    "    return seq\n"
   ]
  },
  {
   "cell_type": "code",
   "execution_count": 10,
   "metadata": {},
   "outputs": [],
   "source": [
    "def solve_all(grids, name='', showif=0.0):\n",
    "    \"\"\"Attempt to solve a sequence of grids. Report results.\n",
    "    When showif is a number of seconds, display puzzles that take longer.\n",
    "    When showif is None, don't display any puzzles.\"\"\"\n",
    "    def time_solve(grid):\n",
    "        start = time.perf_counter()  # use time.perf_counter to replace time.clock\n",
    "        values = solve(grid)  \n",
    "        t = time.perf_counter() - start\n",
    "        ## Display puzzles that take long enough\n",
    "        if showif is not None and t > showif:\n",
    "            display(grid_values(grid))\n",
    "            if values: display(values)\n",
    "            print ('(%.2f seconds)\\n' % t)\n",
    "        return (t, solved(values))\n",
    "    times, results = zip(*[time_solve(grid) for grid in grids])\n",
    "    N = len(grids)\n",
    "    if N > 1:\n",
    "        print (\"Solved %d of %d %s puzzles (avg %.2f secs (%d Hz), max %.2f secs).\" % (\n",
    "            sum(results), N, name, sum(times)/N, N/sum(times), max(times)))\n",
    "\n",
    "def solved(values):\n",
    "    \"A puzzle is solved if each unit is a permutation of the digits 1 to 9.\"\n",
    "    def unitsolved(unit): return set(values[s] for s in unit) == set(digits)\n",
    "    return values is not False and all(unitsolved(unit) for unit in unitlist)"
   ]
  },
  {
   "cell_type": "code",
   "execution_count": 11,
   "metadata": {},
   "outputs": [],
   "source": [
    "def random_puzzle(N=17):\n",
    "    \"\"\"Make a random puzzle with N or more assignments. Restart on contradictions.\n",
    "    Note the resulting puzzle is not guaranteed to be solvable, but empirically\n",
    "    about 99.8% of them are solvable. Some have multiple solutions.\"\"\"\n",
    "    values = dict((s, digits) for s in squares)\n",
    "    for s in shuffled(squares):\n",
    "        if not assign(values, s, random.choice(values[s])):\n",
    "            break\n",
    "        ds = [values[s] for s in squares if len(values[s]) == 1]\n",
    "        if len(ds) >= N and len(set(ds)) >= 8:\n",
    "            return ''.join(values[s] if len(values[s])==1 else '.' for s in squares)\n",
    "    return random_puzzle(N) ## Give up and make a new puzzle"
   ]
  },
  {
   "cell_type": "code",
   "execution_count": 12,
   "metadata": {},
   "outputs": [
    {
     "name": "stdout",
     "output_type": "stream",
     "text": [
      "All tests pass.\n",
      "Solved 95 of 95 95sudoku puzzles (avg 0.01 secs (91 Hz), max 0.09 secs).\n",
      "Solved 100 of 100 100sudoku puzzles (avg 0.00 secs (539 Hz), max 0.01 secs).\n",
      "Solved 98 of 99 random puzzles (avg 0.04 secs (24 Hz), max 2.97 secs).\n"
     ]
    }
   ],
   "source": [
    "if __name__ == '__main__':\n",
    "    test()\n",
    "    solve_all(from_file(\"top95.txt\"), \"95sudoku\", None)\n",
    "    solve_all(from_file(\"100sudoku.txt\"), \"100sudoku\", None)\n",
    "    # solve_all(from_file(\"easy50.txt\", '========'), \"easy\", None)\n",
    "    # solve_all(from_file(\"easy50.txt\", '========'), \"easy\", None)\n",
    "    # solve_all(from_file(\"top95.txt\"), \"hard\", None)\n",
    "    # solve_all(from_file(\"hardest.txt\"), \"hardest\", None)\n",
    "    solve_all([random_puzzle() for _ in range(99)], \"random\", 100.0)"
   ]
  }
 ],
 "metadata": {
  "kernelspec": {
   "display_name": "Python 3",
   "language": "python",
   "name": "python3"
  },
  "language_info": {
   "codemirror_mode": {
    "name": "ipython",
    "version": 3
   },
   "file_extension": ".py",
   "mimetype": "text/x-python",
   "name": "python",
   "nbconvert_exporter": "python",
   "pygments_lexer": "ipython3",
   "version": "3.11.5"
  }
 },
 "nbformat": 4,
 "nbformat_minor": 2
}
